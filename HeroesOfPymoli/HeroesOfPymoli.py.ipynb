{
 "cells": [
  {
   "cell_type": "code",
   "execution_count": 2,
   "metadata": {},
   "outputs": [],
   "source": [
    "#Heroes of Pymoli\n",
    "# Dependencies and Setup\n",
    "import pandas as pd\n",
    "\n",
    "# File to Load\n",
    "pymoli_csv = \"02-Homework_04-Pandas_HeroesOfPymoli_Resources_purchase_data.csv\"\n",
    "output_file = \"HeroesofPymoli.text\"\n",
    "# Read Purchasing File and store into Pandas data frame\n",
    "purchase_data = pd.read_csv(pymoli_csv)"
   ]
  },
  {
   "cell_type": "code",
   "execution_count": 12,
   "metadata": {},
   "outputs": [
    {
     "data": {
      "text/html": [
       "<div>\n",
       "<style scoped>\n",
       "    .dataframe tbody tr th:only-of-type {\n",
       "        vertical-align: middle;\n",
       "    }\n",
       "\n",
       "    .dataframe tbody tr th {\n",
       "        vertical-align: top;\n",
       "    }\n",
       "\n",
       "    .dataframe thead th {\n",
       "        text-align: right;\n",
       "    }\n",
       "</style>\n",
       "<table border=\"1\" class=\"dataframe\">\n",
       "  <thead>\n",
       "    <tr style=\"text-align: right;\">\n",
       "      <th></th>\n",
       "      <th>Total Players</th>\n",
       "    </tr>\n",
       "  </thead>\n",
       "  <tbody>\n",
       "    <tr>\n",
       "      <td>0</td>\n",
       "      <td>576</td>\n",
       "    </tr>\n",
       "  </tbody>\n",
       "</table>\n",
       "</div>"
      ],
      "text/plain": [
       "   Total Players\n",
       "0            576"
      ]
     },
     "execution_count": 12,
     "metadata": {},
     "output_type": "execute_result"
    }
   ],
   "source": [
    "#Display the total number of players\n",
    "total_players = len(purchase_data[\"SN\"].value_counts())\n",
    "\n",
    "#create df\n",
    "player_count = pd.DataFrame({\"Total Players\":[total_players]})\n",
    "player_count\n"
   ]
  },
  {
   "cell_type": "code",
   "execution_count": 14,
   "metadata": {},
   "outputs": [
    {
     "data": {
      "text/html": [
       "<style  type=\"text/css\" >\n",
       "</style><table id=\"T_313aa57e_4d69_11ea_83f8_a683e78a077a\" ><thead>    <tr>        <th class=\"blank level0\" ></th>        <th class=\"col_heading level0 col0\" >Number of Unique Items</th>        <th class=\"col_heading level0 col1\" >Average Price</th>        <th class=\"col_heading level0 col2\" >Number of Purchases</th>        <th class=\"col_heading level0 col3\" >Total Revenue</th>    </tr></thead><tbody>\n",
       "                <tr>\n",
       "                        <th id=\"T_313aa57e_4d69_11ea_83f8_a683e78a077alevel0_row0\" class=\"row_heading level0 row0\" >0</th>\n",
       "                        <td id=\"T_313aa57e_4d69_11ea_83f8_a683e78a077arow0_col0\" class=\"data row0 col0\" >183</td>\n",
       "                        <td id=\"T_313aa57e_4d69_11ea_83f8_a683e78a077arow0_col1\" class=\"data row0 col1\" >$3.05</td>\n",
       "                        <td id=\"T_313aa57e_4d69_11ea_83f8_a683e78a077arow0_col2\" class=\"data row0 col2\" >780</td>\n",
       "                        <td id=\"T_313aa57e_4d69_11ea_83f8_a683e78a077arow0_col3\" class=\"data row0 col3\" >$2,379.77</td>\n",
       "            </tr>\n",
       "    </tbody></table>"
      ],
      "text/plain": [
       "<pandas.io.formats.style.Styler at 0x11ac42f50>"
      ]
     },
     "execution_count": 14,
     "metadata": {},
     "output_type": "execute_result"
    }
   ],
   "source": [
    "#Purchasing analysis (total)\n",
    "#Run basic calculations to obtain number of unique items, average price, etc.\n",
    "unique_items = len((purchase_data[\"Item ID\"]).unique())\n",
    "avg_price = (purchase_data[\"Price\"]).mean()\n",
    "number_purchases = (purchase_data[\"Purchase ID\"]).count()\n",
    "total_revenue = (purchase_data[\"Price\"]).sum()\n",
    "\n",
    "#Create a summary data frame to hold the results\n",
    "summary_df = pd.DataFrame({\"Number of Unique Items\":[unique_items],\n",
    "                           \"Average Price\":[avg_price], \n",
    "                           \"Number of Purchases\": [number_purchases], \n",
    "                           \"Total Revenue\": [total_revenue]})\n",
    "\n",
    "#Optional: give the displayed data cleaner formatting\n",
    "summary_df.style.format({'Average Price':\"${:,.2f}\",\n",
    "                         'Total Revenue': '${:,.2f}'})\n",
    "\n",
    "# Display the summary data frame"
   ]
  },
  {
   "cell_type": "code",
   "execution_count": 21,
   "metadata": {},
   "outputs": [
    {
     "data": {
      "text/html": [
       "<style  type=\"text/css\" >\n",
       "</style><table id=\"T_1b87267e_4d6b_11ea_83f8_a683e78a077a\" ><thead>    <tr>        <th class=\"blank level0\" ></th>        <th class=\"col_heading level0 col0\" >Percentage of Players</th>        <th class=\"col_heading level0 col1\" >Total Count</th>    </tr>    <tr>        <th class=\"index_name level0\" >Gender</th>        <th class=\"blank\" ></th>        <th class=\"blank\" ></th>    </tr></thead><tbody>\n",
       "                <tr>\n",
       "                        <th id=\"T_1b87267e_4d6b_11ea_83f8_a683e78a077alevel0_row0\" class=\"row_heading level0 row0\" >Female</th>\n",
       "                        <td id=\"T_1b87267e_4d6b_11ea_83f8_a683e78a077arow0_col0\" class=\"data row0 col0\" >14.06</td>\n",
       "                        <td id=\"T_1b87267e_4d6b_11ea_83f8_a683e78a077arow0_col1\" class=\"data row0 col1\" >81</td>\n",
       "            </tr>\n",
       "            <tr>\n",
       "                        <th id=\"T_1b87267e_4d6b_11ea_83f8_a683e78a077alevel0_row1\" class=\"row_heading level0 row1\" >Male</th>\n",
       "                        <td id=\"T_1b87267e_4d6b_11ea_83f8_a683e78a077arow1_col0\" class=\"data row1 col0\" >84.03</td>\n",
       "                        <td id=\"T_1b87267e_4d6b_11ea_83f8_a683e78a077arow1_col1\" class=\"data row1 col1\" >484</td>\n",
       "            </tr>\n",
       "            <tr>\n",
       "                        <th id=\"T_1b87267e_4d6b_11ea_83f8_a683e78a077alevel0_row2\" class=\"row_heading level0 row2\" >Other / Non-Disclosed</th>\n",
       "                        <td id=\"T_1b87267e_4d6b_11ea_83f8_a683e78a077arow2_col0\" class=\"data row2 col0\" >1.91</td>\n",
       "                        <td id=\"T_1b87267e_4d6b_11ea_83f8_a683e78a077arow2_col1\" class=\"data row2 col1\" >11</td>\n",
       "            </tr>\n",
       "    </tbody></table>"
      ],
      "text/plain": [
       "<pandas.io.formats.style.Styler at 0x11b83e4d0>"
      ]
     },
     "execution_count": 21,
     "metadata": {},
     "output_type": "execute_result"
    }
   ],
   "source": [
    "#Gender demographics\n",
    "# Percentage and Count of Male Players\n",
    "# Percentage and Count of Female Players\n",
    "# Percentage and Count of Other / Non-Disclosed\n",
    "#group by gender\n",
    "gender_demographics = purchase_data.groupby(\"Gender\")\n",
    "\n",
    "#group by screen name\n",
    "gender_count = gender_demographics.nunique()[\"SN\"]\n",
    "\n",
    "#to find percentage of each gender\n",
    "percent_of_players = (gender_count/total_players)*100\n",
    "\n",
    "#create df with percentages and total counts\n",
    "gender_demographics = pd.DataFrame({\"Percentage of Players\":percent_of_players, \n",
    "                                    \"Total Count\":gender_count})\n",
    "gender_demographics.style.format({\"Percentage of Players\":\"{:.2f}\"})"
   ]
  },
  {
   "cell_type": "code",
   "execution_count": 26,
   "metadata": {},
   "outputs": [
    {
     "data": {
      "text/html": [
       "<style  type=\"text/css\" >\n",
       "</style><table id=\"T_accbe308_4d6c_11ea_83f8_a683e78a077a\" ><thead>    <tr>        <th class=\"blank level0\" ></th>        <th class=\"col_heading level0 col0\" >Purchase Count</th>        <th class=\"col_heading level0 col1\" >Average Purchase Price</th>        <th class=\"col_heading level0 col2\" >Total Purchase Value</th>        <th class=\"col_heading level0 col3\" >Avg Total Purchase per Person</th>    </tr>    <tr>        <th class=\"index_name level0\" >Gender</th>        <th class=\"blank\" ></th>        <th class=\"blank\" ></th>        <th class=\"blank\" ></th>        <th class=\"blank\" ></th>    </tr></thead><tbody>\n",
       "                <tr>\n",
       "                        <th id=\"T_accbe308_4d6c_11ea_83f8_a683e78a077alevel0_row0\" class=\"row_heading level0 row0\" >Female</th>\n",
       "                        <td id=\"T_accbe308_4d6c_11ea_83f8_a683e78a077arow0_col0\" class=\"data row0 col0\" >780</td>\n",
       "                        <td id=\"T_accbe308_4d6c_11ea_83f8_a683e78a077arow0_col1\" class=\"data row0 col1\" >$3.05</td>\n",
       "                        <td id=\"T_accbe308_4d6c_11ea_83f8_a683e78a077arow0_col2\" class=\"data row0 col2\" >$2,379.77</td>\n",
       "                        <td id=\"T_accbe308_4d6c_11ea_83f8_a683e78a077arow0_col3\" class=\"data row0 col3\" >$29.38</td>\n",
       "            </tr>\n",
       "            <tr>\n",
       "                        <th id=\"T_accbe308_4d6c_11ea_83f8_a683e78a077alevel0_row1\" class=\"row_heading level0 row1\" >Male</th>\n",
       "                        <td id=\"T_accbe308_4d6c_11ea_83f8_a683e78a077arow1_col0\" class=\"data row1 col0\" >780</td>\n",
       "                        <td id=\"T_accbe308_4d6c_11ea_83f8_a683e78a077arow1_col1\" class=\"data row1 col1\" >$3.05</td>\n",
       "                        <td id=\"T_accbe308_4d6c_11ea_83f8_a683e78a077arow1_col2\" class=\"data row1 col2\" >$2,379.77</td>\n",
       "                        <td id=\"T_accbe308_4d6c_11ea_83f8_a683e78a077arow1_col3\" class=\"data row1 col3\" >$4.92</td>\n",
       "            </tr>\n",
       "            <tr>\n",
       "                        <th id=\"T_accbe308_4d6c_11ea_83f8_a683e78a077alevel0_row2\" class=\"row_heading level0 row2\" >Other / Non-Disclosed</th>\n",
       "                        <td id=\"T_accbe308_4d6c_11ea_83f8_a683e78a077arow2_col0\" class=\"data row2 col0\" >780</td>\n",
       "                        <td id=\"T_accbe308_4d6c_11ea_83f8_a683e78a077arow2_col1\" class=\"data row2 col1\" >$3.05</td>\n",
       "                        <td id=\"T_accbe308_4d6c_11ea_83f8_a683e78a077arow2_col2\" class=\"data row2 col2\" >$2,379.77</td>\n",
       "                        <td id=\"T_accbe308_4d6c_11ea_83f8_a683e78a077arow2_col3\" class=\"data row2 col3\" >$216.34</td>\n",
       "            </tr>\n",
       "    </tbody></table>"
      ],
      "text/plain": [
       "<pandas.io.formats.style.Styler at 0x11b9a6c90>"
      ]
     },
     "execution_count": 26,
     "metadata": {},
     "output_type": "execute_result"
    }
   ],
   "source": [
    "#Purchasing Analysis (gender)\n",
    "#Run basic calculations to obtain avg. purchase total per person etc. by gender\n",
    "# Create a summary data frame to hold the results\n",
    "# Optional: give the displayed data cleaner formatting\n",
    "# Display the summary data frame\n",
    "\n",
    "#Run basic calculations to obtain purchase count\n",
    "purchase_count = purchase_data[\"Purchase ID\"].count()\n",
    "\n",
    "#Run basic calculations to obtain avg. purchase price\n",
    "avg_purchase_price = purchase_data[\"Price\"].mean()\n",
    "\n",
    "#Run basic calculations to obtain avg. purchase total per person etc. by gender\n",
    "avg_purchase_total = purchase_data[\"Price\"].sum()\n",
    "avg_purchase_per_person = avg_purchase_total/gender_count\n",
    "\n",
    "#create df \n",
    "gender_demographics = pd.DataFrame({\"Purchase Count\": purchase_count, \n",
    "                                    \"Average Purchase Price\": avg_purchase_price,\n",
    "                                    \"Total Purchase Value\":avg_purchase_total,\n",
    "                                    \"Avg Total Purchase per Person\": avg_purchase_per_person})\n",
    "\n",
    "gender_demographics.style.format({\"Average Purchase Price\":\"${:,.2f}\",\n",
    "                                  \"Total Purchase Value\":\"${:,.2f}\",\n",
    "                                  \"Avg Total Purchase per Person\":\"${:,.2f}\"})\n"
   ]
  },
  {
   "cell_type": "code",
   "execution_count": 36,
   "metadata": {},
   "outputs": [
    {
     "data": {
      "text/html": [
       "<style  type=\"text/css\" >\n",
       "</style><table id=\"T_be1ea692_4d6f_11ea_83f8_a683e78a077a\" ><thead>    <tr>        <th class=\"blank level0\" ></th>        <th class=\"col_heading level0 col0\" >Total Count</th>        <th class=\"col_heading level0 col1\" >Percentage of Players</th>    </tr>    <tr>        <th class=\"index_name level0\" >Age Group</th>        <th class=\"blank\" ></th>        <th class=\"blank\" ></th>    </tr></thead><tbody>\n",
       "                <tr>\n",
       "                        <th id=\"T_be1ea692_4d6f_11ea_83f8_a683e78a077alevel0_row0\" class=\"row_heading level0 row0\" ><10</th>\n",
       "                        <td id=\"T_be1ea692_4d6f_11ea_83f8_a683e78a077arow0_col0\" class=\"data row0 col0\" >17</td>\n",
       "                        <td id=\"T_be1ea692_4d6f_11ea_83f8_a683e78a077arow0_col1\" class=\"data row0 col1\" >2.95</td>\n",
       "            </tr>\n",
       "            <tr>\n",
       "                        <th id=\"T_be1ea692_4d6f_11ea_83f8_a683e78a077alevel0_row1\" class=\"row_heading level0 row1\" >10-14</th>\n",
       "                        <td id=\"T_be1ea692_4d6f_11ea_83f8_a683e78a077arow1_col0\" class=\"data row1 col0\" >22</td>\n",
       "                        <td id=\"T_be1ea692_4d6f_11ea_83f8_a683e78a077arow1_col1\" class=\"data row1 col1\" >3.82</td>\n",
       "            </tr>\n",
       "            <tr>\n",
       "                        <th id=\"T_be1ea692_4d6f_11ea_83f8_a683e78a077alevel0_row2\" class=\"row_heading level0 row2\" >15-19</th>\n",
       "                        <td id=\"T_be1ea692_4d6f_11ea_83f8_a683e78a077arow2_col0\" class=\"data row2 col0\" >107</td>\n",
       "                        <td id=\"T_be1ea692_4d6f_11ea_83f8_a683e78a077arow2_col1\" class=\"data row2 col1\" >18.58</td>\n",
       "            </tr>\n",
       "            <tr>\n",
       "                        <th id=\"T_be1ea692_4d6f_11ea_83f8_a683e78a077alevel0_row3\" class=\"row_heading level0 row3\" >20-24</th>\n",
       "                        <td id=\"T_be1ea692_4d6f_11ea_83f8_a683e78a077arow3_col0\" class=\"data row3 col0\" >258</td>\n",
       "                        <td id=\"T_be1ea692_4d6f_11ea_83f8_a683e78a077arow3_col1\" class=\"data row3 col1\" >44.79</td>\n",
       "            </tr>\n",
       "            <tr>\n",
       "                        <th id=\"T_be1ea692_4d6f_11ea_83f8_a683e78a077alevel0_row4\" class=\"row_heading level0 row4\" >25-29</th>\n",
       "                        <td id=\"T_be1ea692_4d6f_11ea_83f8_a683e78a077arow4_col0\" class=\"data row4 col0\" >77</td>\n",
       "                        <td id=\"T_be1ea692_4d6f_11ea_83f8_a683e78a077arow4_col1\" class=\"data row4 col1\" >13.37</td>\n",
       "            </tr>\n",
       "            <tr>\n",
       "                        <th id=\"T_be1ea692_4d6f_11ea_83f8_a683e78a077alevel0_row5\" class=\"row_heading level0 row5\" >30-34</th>\n",
       "                        <td id=\"T_be1ea692_4d6f_11ea_83f8_a683e78a077arow5_col0\" class=\"data row5 col0\" >52</td>\n",
       "                        <td id=\"T_be1ea692_4d6f_11ea_83f8_a683e78a077arow5_col1\" class=\"data row5 col1\" >9.03</td>\n",
       "            </tr>\n",
       "            <tr>\n",
       "                        <th id=\"T_be1ea692_4d6f_11ea_83f8_a683e78a077alevel0_row6\" class=\"row_heading level0 row6\" >35-39</th>\n",
       "                        <td id=\"T_be1ea692_4d6f_11ea_83f8_a683e78a077arow6_col0\" class=\"data row6 col0\" >31</td>\n",
       "                        <td id=\"T_be1ea692_4d6f_11ea_83f8_a683e78a077arow6_col1\" class=\"data row6 col1\" >5.38</td>\n",
       "            </tr>\n",
       "            <tr>\n",
       "                        <th id=\"T_be1ea692_4d6f_11ea_83f8_a683e78a077alevel0_row7\" class=\"row_heading level0 row7\" >40+</th>\n",
       "                        <td id=\"T_be1ea692_4d6f_11ea_83f8_a683e78a077arow7_col0\" class=\"data row7 col0\" >12</td>\n",
       "                        <td id=\"T_be1ea692_4d6f_11ea_83f8_a683e78a077arow7_col1\" class=\"data row7 col1\" >2.08</td>\n",
       "            </tr>\n",
       "    </tbody></table>"
      ],
      "text/plain": [
       "<pandas.io.formats.style.Styler at 0x11b77fc50>"
      ]
     },
     "execution_count": 36,
     "metadata": {},
     "output_type": "execute_result"
    }
   ],
   "source": [
    "#Age demographics\n",
    "#Establish bins for ages\n",
    "age_bins = [0, 9.90, 14.90, 19.90, 24.90, 29.90, 34.90, 39.90, 99999]\n",
    "group_names = [\"<10\", \"10-14\", \"15-19\", \"20-24\", \"25-29\", \"30-34\", \"35-39\", \"40+\"]\n",
    "\n",
    "#Categorize the existing players using the age bins. Hint: use pd.cut()\n",
    "purchase_data[\"Age Group\"] = pd.cut(purchase_data[\"Age\"],age_bins, labels=group_names)\n",
    "purchase_data\n",
    "\n",
    "#Calculate the numbers and percentages by age group\n",
    "age_df = purchase_data.groupby(\"Age Group\")\n",
    "total_age_count = age_df[\"SN\"].nunique()\n",
    "percent_by_age = (total_age_count/total_players)*100\n",
    "\n",
    "#Create a summary data frame to hold the results\n",
    "age_demographics = pd.DataFrame({\"Total Count\":total_age_count,\n",
    "                                \"Percentage of Players\":percent_by_age})\n",
    "\n",
    "#Optional: round the percentage column to two decimal points\n",
    "age_demographics.style.format({\"Percentage of Players\":\"{:,.2f}\"})\n",
    "#Display Age Demographics Table\n",
    "\n"
   ]
  },
  {
   "cell_type": "code",
   "execution_count": 39,
   "metadata": {},
   "outputs": [
    {
     "data": {
      "text/html": [
       "<style  type=\"text/css\" >\n",
       "</style><table id=\"T_ed70d42e_4d6f_11ea_83f8_a683e78a077a\" ><thead>    <tr>        <th class=\"blank level0\" ></th>        <th class=\"col_heading level0 col0\" >Purchase Count</th>        <th class=\"col_heading level0 col1\" >Average Purchase Price</th>        <th class=\"col_heading level0 col2\" >Total Purchase Value</th>        <th class=\"col_heading level0 col3\" >Avg Total Purchase per Person</th>    </tr>    <tr>        <th class=\"index_name level0\" >Age Group</th>        <th class=\"blank\" ></th>        <th class=\"blank\" ></th>        <th class=\"blank\" ></th>        <th class=\"blank\" ></th>    </tr></thead><tbody>\n",
       "                <tr>\n",
       "                        <th id=\"T_ed70d42e_4d6f_11ea_83f8_a683e78a077alevel0_row0\" class=\"row_heading level0 row0\" ><10</th>\n",
       "                        <td id=\"T_ed70d42e_4d6f_11ea_83f8_a683e78a077arow0_col0\" class=\"data row0 col0\" >23</td>\n",
       "                        <td id=\"T_ed70d42e_4d6f_11ea_83f8_a683e78a077arow0_col1\" class=\"data row0 col1\" >$3.35</td>\n",
       "                        <td id=\"T_ed70d42e_4d6f_11ea_83f8_a683e78a077arow0_col2\" class=\"data row0 col2\" >$77.13</td>\n",
       "                        <td id=\"T_ed70d42e_4d6f_11ea_83f8_a683e78a077arow0_col3\" class=\"data row0 col3\" >$3.35</td>\n",
       "            </tr>\n",
       "            <tr>\n",
       "                        <th id=\"T_ed70d42e_4d6f_11ea_83f8_a683e78a077alevel0_row1\" class=\"row_heading level0 row1\" >10-14</th>\n",
       "                        <td id=\"T_ed70d42e_4d6f_11ea_83f8_a683e78a077arow1_col0\" class=\"data row1 col0\" >28</td>\n",
       "                        <td id=\"T_ed70d42e_4d6f_11ea_83f8_a683e78a077arow1_col1\" class=\"data row1 col1\" >$2.96</td>\n",
       "                        <td id=\"T_ed70d42e_4d6f_11ea_83f8_a683e78a077arow1_col2\" class=\"data row1 col2\" >$82.78</td>\n",
       "                        <td id=\"T_ed70d42e_4d6f_11ea_83f8_a683e78a077arow1_col3\" class=\"data row1 col3\" >$2.96</td>\n",
       "            </tr>\n",
       "            <tr>\n",
       "                        <th id=\"T_ed70d42e_4d6f_11ea_83f8_a683e78a077alevel0_row2\" class=\"row_heading level0 row2\" >15-19</th>\n",
       "                        <td id=\"T_ed70d42e_4d6f_11ea_83f8_a683e78a077arow2_col0\" class=\"data row2 col0\" >136</td>\n",
       "                        <td id=\"T_ed70d42e_4d6f_11ea_83f8_a683e78a077arow2_col1\" class=\"data row2 col1\" >$3.04</td>\n",
       "                        <td id=\"T_ed70d42e_4d6f_11ea_83f8_a683e78a077arow2_col2\" class=\"data row2 col2\" >$412.89</td>\n",
       "                        <td id=\"T_ed70d42e_4d6f_11ea_83f8_a683e78a077arow2_col3\" class=\"data row2 col3\" >$3.04</td>\n",
       "            </tr>\n",
       "            <tr>\n",
       "                        <th id=\"T_ed70d42e_4d6f_11ea_83f8_a683e78a077alevel0_row3\" class=\"row_heading level0 row3\" >20-24</th>\n",
       "                        <td id=\"T_ed70d42e_4d6f_11ea_83f8_a683e78a077arow3_col0\" class=\"data row3 col0\" >365</td>\n",
       "                        <td id=\"T_ed70d42e_4d6f_11ea_83f8_a683e78a077arow3_col1\" class=\"data row3 col1\" >$3.05</td>\n",
       "                        <td id=\"T_ed70d42e_4d6f_11ea_83f8_a683e78a077arow3_col2\" class=\"data row3 col2\" >$1,114.06</td>\n",
       "                        <td id=\"T_ed70d42e_4d6f_11ea_83f8_a683e78a077arow3_col3\" class=\"data row3 col3\" >$3.05</td>\n",
       "            </tr>\n",
       "            <tr>\n",
       "                        <th id=\"T_ed70d42e_4d6f_11ea_83f8_a683e78a077alevel0_row4\" class=\"row_heading level0 row4\" >25-29</th>\n",
       "                        <td id=\"T_ed70d42e_4d6f_11ea_83f8_a683e78a077arow4_col0\" class=\"data row4 col0\" >101</td>\n",
       "                        <td id=\"T_ed70d42e_4d6f_11ea_83f8_a683e78a077arow4_col1\" class=\"data row4 col1\" >$2.90</td>\n",
       "                        <td id=\"T_ed70d42e_4d6f_11ea_83f8_a683e78a077arow4_col2\" class=\"data row4 col2\" >$293.00</td>\n",
       "                        <td id=\"T_ed70d42e_4d6f_11ea_83f8_a683e78a077arow4_col3\" class=\"data row4 col3\" >$2.90</td>\n",
       "            </tr>\n",
       "            <tr>\n",
       "                        <th id=\"T_ed70d42e_4d6f_11ea_83f8_a683e78a077alevel0_row5\" class=\"row_heading level0 row5\" >30-34</th>\n",
       "                        <td id=\"T_ed70d42e_4d6f_11ea_83f8_a683e78a077arow5_col0\" class=\"data row5 col0\" >73</td>\n",
       "                        <td id=\"T_ed70d42e_4d6f_11ea_83f8_a683e78a077arow5_col1\" class=\"data row5 col1\" >$2.93</td>\n",
       "                        <td id=\"T_ed70d42e_4d6f_11ea_83f8_a683e78a077arow5_col2\" class=\"data row5 col2\" >$214.00</td>\n",
       "                        <td id=\"T_ed70d42e_4d6f_11ea_83f8_a683e78a077arow5_col3\" class=\"data row5 col3\" >$2.93</td>\n",
       "            </tr>\n",
       "            <tr>\n",
       "                        <th id=\"T_ed70d42e_4d6f_11ea_83f8_a683e78a077alevel0_row6\" class=\"row_heading level0 row6\" >35-39</th>\n",
       "                        <td id=\"T_ed70d42e_4d6f_11ea_83f8_a683e78a077arow6_col0\" class=\"data row6 col0\" >41</td>\n",
       "                        <td id=\"T_ed70d42e_4d6f_11ea_83f8_a683e78a077arow6_col1\" class=\"data row6 col1\" >$3.60</td>\n",
       "                        <td id=\"T_ed70d42e_4d6f_11ea_83f8_a683e78a077arow6_col2\" class=\"data row6 col2\" >$147.67</td>\n",
       "                        <td id=\"T_ed70d42e_4d6f_11ea_83f8_a683e78a077arow6_col3\" class=\"data row6 col3\" >$3.60</td>\n",
       "            </tr>\n",
       "            <tr>\n",
       "                        <th id=\"T_ed70d42e_4d6f_11ea_83f8_a683e78a077alevel0_row7\" class=\"row_heading level0 row7\" >40+</th>\n",
       "                        <td id=\"T_ed70d42e_4d6f_11ea_83f8_a683e78a077arow7_col0\" class=\"data row7 col0\" >13</td>\n",
       "                        <td id=\"T_ed70d42e_4d6f_11ea_83f8_a683e78a077arow7_col1\" class=\"data row7 col1\" >$2.94</td>\n",
       "                        <td id=\"T_ed70d42e_4d6f_11ea_83f8_a683e78a077arow7_col2\" class=\"data row7 col2\" >$38.24</td>\n",
       "                        <td id=\"T_ed70d42e_4d6f_11ea_83f8_a683e78a077arow7_col3\" class=\"data row7 col3\" >$2.94</td>\n",
       "            </tr>\n",
       "    </tbody></table>"
      ],
      "text/plain": [
       "<pandas.io.formats.style.Styler at 0x11b9af810>"
      ]
     },
     "execution_count": 39,
     "metadata": {},
     "output_type": "execute_result"
    }
   ],
   "source": [
    "#Purchasing Analysis (age)\n",
    "#Bin the purchase_data data frame by age\n",
    "purchase_count_age = age_df[\"Purchase ID\"].count()\n",
    "\n",
    "#Run basic calculations to obtain avg. purchase price\n",
    "avg_purchase_price_age = age_df[\"Price\"].mean()\n",
    "\n",
    "#Run basic calculations to obtain avg. purchase total per person etc. by gender\n",
    "avg_purchase_total_age = age_df[\"Price\"].sum()\n",
    "avg_purchase_per_person_age = avg_purchase_total_age/purchase_count_age\n",
    "\n",
    "#create df \n",
    "age_demographics = pd.DataFrame({\"Purchase Count\": purchase_count_age, \n",
    "                                 \"Average Purchase Price\": avg_purchase_price_age,\n",
    "                                 \"Total Purchase Value\":avg_purchase_total_age,\n",
    "                                 \"Avg Total Purchase per Person\": avg_purchase_per_person_age})\n",
    "\n",
    "age_demographics.style.format({\"Average Purchase Price\":\"${:,.2f}\",\n",
    "                               \"Total Purchase Value\":\"${:,.2f}\",\n",
    "                               \"Avg Total Purchase per Person\":\"${:,.2f}\"})"
   ]
  },
  {
   "cell_type": "code",
   "execution_count": 48,
   "metadata": {},
   "outputs": [
    {
     "data": {
      "text/html": [
       "<style  type=\"text/css\" >\n",
       "</style><table id=\"T_ea9bbe24_4d71_11ea_83f8_a683e78a077a\" ><thead>    <tr>        <th class=\"blank level0\" ></th>        <th class=\"col_heading level0 col0\" >Purchase Count</th>        <th class=\"col_heading level0 col1\" >Average Purchase Price</th>        <th class=\"col_heading level0 col2\" >Total Purchase Value</th>    </tr>    <tr>        <th class=\"index_name level0\" >SN</th>        <th class=\"blank\" ></th>        <th class=\"blank\" ></th>        <th class=\"blank\" ></th>    </tr></thead><tbody>\n",
       "                <tr>\n",
       "                        <th id=\"T_ea9bbe24_4d71_11ea_83f8_a683e78a077alevel0_row0\" class=\"row_heading level0 row0\" >Lisosia93</th>\n",
       "                        <td id=\"T_ea9bbe24_4d71_11ea_83f8_a683e78a077arow0_col0\" class=\"data row0 col0\" >$5.00</td>\n",
       "                        <td id=\"T_ea9bbe24_4d71_11ea_83f8_a683e78a077arow0_col1\" class=\"data row0 col1\" >$3.79</td>\n",
       "                        <td id=\"T_ea9bbe24_4d71_11ea_83f8_a683e78a077arow0_col2\" class=\"data row0 col2\" >$18.96</td>\n",
       "            </tr>\n",
       "            <tr>\n",
       "                        <th id=\"T_ea9bbe24_4d71_11ea_83f8_a683e78a077alevel0_row1\" class=\"row_heading level0 row1\" >Idastidru52</th>\n",
       "                        <td id=\"T_ea9bbe24_4d71_11ea_83f8_a683e78a077arow1_col0\" class=\"data row1 col0\" >$4.00</td>\n",
       "                        <td id=\"T_ea9bbe24_4d71_11ea_83f8_a683e78a077arow1_col1\" class=\"data row1 col1\" >$3.86</td>\n",
       "                        <td id=\"T_ea9bbe24_4d71_11ea_83f8_a683e78a077arow1_col2\" class=\"data row1 col2\" >$15.45</td>\n",
       "            </tr>\n",
       "            <tr>\n",
       "                        <th id=\"T_ea9bbe24_4d71_11ea_83f8_a683e78a077alevel0_row2\" class=\"row_heading level0 row2\" >Chamjask73</th>\n",
       "                        <td id=\"T_ea9bbe24_4d71_11ea_83f8_a683e78a077arow2_col0\" class=\"data row2 col0\" >$3.00</td>\n",
       "                        <td id=\"T_ea9bbe24_4d71_11ea_83f8_a683e78a077arow2_col1\" class=\"data row2 col1\" >$4.61</td>\n",
       "                        <td id=\"T_ea9bbe24_4d71_11ea_83f8_a683e78a077arow2_col2\" class=\"data row2 col2\" >$13.83</td>\n",
       "            </tr>\n",
       "            <tr>\n",
       "                        <th id=\"T_ea9bbe24_4d71_11ea_83f8_a683e78a077alevel0_row3\" class=\"row_heading level0 row3\" >Iral74</th>\n",
       "                        <td id=\"T_ea9bbe24_4d71_11ea_83f8_a683e78a077arow3_col0\" class=\"data row3 col0\" >$4.00</td>\n",
       "                        <td id=\"T_ea9bbe24_4d71_11ea_83f8_a683e78a077arow3_col1\" class=\"data row3 col1\" >$3.40</td>\n",
       "                        <td id=\"T_ea9bbe24_4d71_11ea_83f8_a683e78a077arow3_col2\" class=\"data row3 col2\" >$13.62</td>\n",
       "            </tr>\n",
       "            <tr>\n",
       "                        <th id=\"T_ea9bbe24_4d71_11ea_83f8_a683e78a077alevel0_row4\" class=\"row_heading level0 row4\" >Iskadarya95</th>\n",
       "                        <td id=\"T_ea9bbe24_4d71_11ea_83f8_a683e78a077arow4_col0\" class=\"data row4 col0\" >$3.00</td>\n",
       "                        <td id=\"T_ea9bbe24_4d71_11ea_83f8_a683e78a077arow4_col1\" class=\"data row4 col1\" >$4.37</td>\n",
       "                        <td id=\"T_ea9bbe24_4d71_11ea_83f8_a683e78a077arow4_col2\" class=\"data row4 col2\" >$13.10</td>\n",
       "            </tr>\n",
       "    </tbody></table>"
      ],
      "text/plain": [
       "<pandas.io.formats.style.Styler at 0x11b9a6b90>"
      ]
     },
     "execution_count": 48,
     "metadata": {},
     "output_type": "execute_result"
    }
   ],
   "source": [
    "#top spenders\n",
    "#Run basic calculations to obtain the results in the table below\n",
    "#Create a summary data frame to hold the results\n",
    "#Sort the total purchase value column in descending order\n",
    "#Optional: give the displayed data cleaner formatting\n",
    "#Display a preview of the summary data frame\n",
    "\n",
    "top_spenders = purchase_data.groupby(\"SN\")\n",
    "purchase_count_spenders = top_spenders[\"Purchase ID\"].count()\n",
    "avg_purchase_price_spenders = top_spenders[\"Price\"].mean()\n",
    "purchase_total_spenders = top_spenders[\"Price\"].sum()\n",
    "\n",
    "#create df\n",
    "top_spenders_df = pd.DataFrame({\"Purchase Count\": purchase_count_spenders,\n",
    "                                \"Average Purchase Price\": avg_purchase_price_spenders,\n",
    "                                \"Total Purchase Value\":purchase_total_spenders})\n",
    "#format\n",
    "spenders_df_format = top_spenders_df.sort_values([\"Total Purchase Value\"], ascending=False).head()\n",
    "spenders_df_format.style.format({\"Purchase Count\":\"${:,.2f}\",\n",
    "                                 \"Average Purchase Price\":\"${:,.2f}\", \n",
    "                                 \"Total Purchase Value\":\"${:,.2f}\"})"
   ]
  },
  {
   "cell_type": "code",
   "execution_count": 64,
   "metadata": {},
   "outputs": [
    {
     "data": {
      "text/html": [
       "<style  type=\"text/css\" >\n",
       "</style><table id=\"T_d3306858_4d75_11ea_83f8_a683e78a077a\" ><thead>    <tr>        <th class=\"blank\" ></th>        <th class=\"blank level0\" ></th>        <th class=\"col_heading level0 col0\" >Purchase Count</th>        <th class=\"col_heading level0 col1\" >Item Price</th>        <th class=\"col_heading level0 col2\" >Total Purchase Value</th>    </tr>    <tr>        <th class=\"index_name level0\" >Item ID</th>        <th class=\"index_name level1\" >Item Name</th>        <th class=\"blank\" ></th>        <th class=\"blank\" ></th>        <th class=\"blank\" ></th>    </tr></thead><tbody>\n",
       "                <tr>\n",
       "                        <th id=\"T_d3306858_4d75_11ea_83f8_a683e78a077alevel0_row0\" class=\"row_heading level0 row0\" >51</th>\n",
       "                        <th id=\"T_d3306858_4d75_11ea_83f8_a683e78a077alevel1_row0\" class=\"row_heading level1 row0\" >Endbringer</th>\n",
       "                        <td id=\"T_d3306858_4d75_11ea_83f8_a683e78a077arow0_col0\" class=\"data row0 col0\" >1</td>\n",
       "                        <td id=\"T_d3306858_4d75_11ea_83f8_a683e78a077arow0_col1\" class=\"data row0 col1\" >$4.66</td>\n",
       "                        <td id=\"T_d3306858_4d75_11ea_83f8_a683e78a077arow0_col2\" class=\"data row0 col2\" >$4.66</td>\n",
       "            </tr>\n",
       "            <tr>\n",
       "                        <th id=\"T_d3306858_4d75_11ea_83f8_a683e78a077alevel0_row1\" class=\"row_heading level0 row1\" >27</th>\n",
       "                        <th id=\"T_d3306858_4d75_11ea_83f8_a683e78a077alevel1_row1\" class=\"row_heading level1 row1\" >Riddle, Tribute of Ended Dreams</th>\n",
       "                        <td id=\"T_d3306858_4d75_11ea_83f8_a683e78a077arow1_col0\" class=\"data row1 col0\" >1</td>\n",
       "                        <td id=\"T_d3306858_4d75_11ea_83f8_a683e78a077arow1_col1\" class=\"data row1 col1\" >$3.30</td>\n",
       "                        <td id=\"T_d3306858_4d75_11ea_83f8_a683e78a077arow1_col2\" class=\"data row1 col2\" >$3.30</td>\n",
       "            </tr>\n",
       "            <tr>\n",
       "                        <th id=\"T_d3306858_4d75_11ea_83f8_a683e78a077alevel0_row2\" class=\"row_heading level0 row2\" >104</th>\n",
       "                        <th id=\"T_d3306858_4d75_11ea_83f8_a683e78a077alevel1_row2\" class=\"row_heading level1 row2\" >Gladiator's Glaive</th>\n",
       "                        <td id=\"T_d3306858_4d75_11ea_83f8_a683e78a077arow2_col0\" class=\"data row2 col0\" >1</td>\n",
       "                        <td id=\"T_d3306858_4d75_11ea_83f8_a683e78a077arow2_col1\" class=\"data row2 col1\" >$1.93</td>\n",
       "                        <td id=\"T_d3306858_4d75_11ea_83f8_a683e78a077arow2_col2\" class=\"data row2 col2\" >$1.93</td>\n",
       "            </tr>\n",
       "            <tr>\n",
       "                        <th id=\"T_d3306858_4d75_11ea_83f8_a683e78a077alevel0_row3\" class=\"row_heading level0 row3\" >118</th>\n",
       "                        <th id=\"T_d3306858_4d75_11ea_83f8_a683e78a077alevel1_row3\" class=\"row_heading level1 row3\" >Ghost Reaver, Longsword of Magic</th>\n",
       "                        <td id=\"T_d3306858_4d75_11ea_83f8_a683e78a077arow3_col0\" class=\"data row3 col0\" >1</td>\n",
       "                        <td id=\"T_d3306858_4d75_11ea_83f8_a683e78a077arow3_col1\" class=\"data row3 col1\" >$2.17</td>\n",
       "                        <td id=\"T_d3306858_4d75_11ea_83f8_a683e78a077arow3_col2\" class=\"data row3 col2\" >$2.17</td>\n",
       "            </tr>\n",
       "            <tr>\n",
       "                        <th id=\"T_d3306858_4d75_11ea_83f8_a683e78a077alevel0_row4\" class=\"row_heading level0 row4\" >42</th>\n",
       "                        <th id=\"T_d3306858_4d75_11ea_83f8_a683e78a077alevel1_row4\" class=\"row_heading level1 row4\" >The Decapitator</th>\n",
       "                        <td id=\"T_d3306858_4d75_11ea_83f8_a683e78a077arow4_col0\" class=\"data row4 col0\" >1</td>\n",
       "                        <td id=\"T_d3306858_4d75_11ea_83f8_a683e78a077arow4_col1\" class=\"data row4 col1\" >$1.75</td>\n",
       "                        <td id=\"T_d3306858_4d75_11ea_83f8_a683e78a077arow4_col2\" class=\"data row4 col2\" >$1.75</td>\n",
       "            </tr>\n",
       "    </tbody></table>"
      ],
      "text/plain": [
       "<pandas.io.formats.style.Styler at 0x11b1d5690>"
      ]
     },
     "execution_count": 64,
     "metadata": {},
     "output_type": "execute_result"
    }
   ],
   "source": [
    "#most popular items\n",
    "#Retrieve the Item ID, Item Name, and Item Price columns\n",
    "#Group by Item ID and Item Name. Perform calculations to obtain purchase count, item price, and total purchase value\n",
    "#Create a summary data frame to hold the results\n",
    "#Sort the purchase count column in descending order\n",
    "#Optional: give the displayed data cleaner formatting\n",
    "#Display a preview of the summary data frame\n",
    "\n",
    "#group items and calculate purchase price\n",
    "item_df = purchase_data[[\"Item ID\", \"Item Name\", \"Price\"]]\n",
    "item_id_name = item_df.groupby([\"Item ID\", \"Item Name\"])\n",
    "purchase_count_item = item_id_name[\"Price\"].count()\n",
    "purchase_price = item_id_name[\"Price\"].sum()\n",
    "\n",
    "item_price = purchase_price/purchase_count_item\n",
    "\n",
    "most_popular_items = pd.DataFrame({\"Purchase Count\": purchase_count_item, \n",
    "                                   \"Item Price\": item_price,\n",
    "                                   \"Total Purchase Value\":purchase_price})\n",
    "#format\n",
    "popular_item_format = most_popular_items.sort_values([\"Purchase Count\"], ascending=True).head()\n",
    "popular_item_format.style.format({\"Item Price\":\"${:,.2f}\",\n",
    "                                  \"Total Purchase Value\":\"${:,.2f}\"})"
   ]
  },
  {
   "cell_type": "code",
   "execution_count": 63,
   "metadata": {},
   "outputs": [
    {
     "data": {
      "text/html": [
       "<style  type=\"text/css\" >\n",
       "</style><table id=\"T_af899ad2_4d75_11ea_83f8_a683e78a077a\" ><thead>    <tr>        <th class=\"blank\" ></th>        <th class=\"blank level0\" ></th>        <th class=\"col_heading level0 col0\" >Purchase Count</th>        <th class=\"col_heading level0 col1\" >Item Price</th>        <th class=\"col_heading level0 col2\" >Total Purchase Value</th>    </tr>    <tr>        <th class=\"index_name level0\" >Item ID</th>        <th class=\"index_name level1\" >Item Name</th>        <th class=\"blank\" ></th>        <th class=\"blank\" ></th>        <th class=\"blank\" ></th>    </tr></thead><tbody>\n",
       "                <tr>\n",
       "                        <th id=\"T_af899ad2_4d75_11ea_83f8_a683e78a077alevel0_row0\" class=\"row_heading level0 row0\" >178</th>\n",
       "                        <th id=\"T_af899ad2_4d75_11ea_83f8_a683e78a077alevel1_row0\" class=\"row_heading level1 row0\" >Oathbreaker, Last Hope of the Breaking Storm</th>\n",
       "                        <td id=\"T_af899ad2_4d75_11ea_83f8_a683e78a077arow0_col0\" class=\"data row0 col0\" >12</td>\n",
       "                        <td id=\"T_af899ad2_4d75_11ea_83f8_a683e78a077arow0_col1\" class=\"data row0 col1\" >$4.23</td>\n",
       "                        <td id=\"T_af899ad2_4d75_11ea_83f8_a683e78a077arow0_col2\" class=\"data row0 col2\" >$50.76</td>\n",
       "            </tr>\n",
       "            <tr>\n",
       "                        <th id=\"T_af899ad2_4d75_11ea_83f8_a683e78a077alevel0_row1\" class=\"row_heading level0 row1\" >82</th>\n",
       "                        <th id=\"T_af899ad2_4d75_11ea_83f8_a683e78a077alevel1_row1\" class=\"row_heading level1 row1\" >Nirvana</th>\n",
       "                        <td id=\"T_af899ad2_4d75_11ea_83f8_a683e78a077arow1_col0\" class=\"data row1 col0\" >9</td>\n",
       "                        <td id=\"T_af899ad2_4d75_11ea_83f8_a683e78a077arow1_col1\" class=\"data row1 col1\" >$4.90</td>\n",
       "                        <td id=\"T_af899ad2_4d75_11ea_83f8_a683e78a077arow1_col2\" class=\"data row1 col2\" >$44.10</td>\n",
       "            </tr>\n",
       "            <tr>\n",
       "                        <th id=\"T_af899ad2_4d75_11ea_83f8_a683e78a077alevel0_row2\" class=\"row_heading level0 row2\" >145</th>\n",
       "                        <th id=\"T_af899ad2_4d75_11ea_83f8_a683e78a077alevel1_row2\" class=\"row_heading level1 row2\" >Fiery Glass Crusader</th>\n",
       "                        <td id=\"T_af899ad2_4d75_11ea_83f8_a683e78a077arow2_col0\" class=\"data row2 col0\" >9</td>\n",
       "                        <td id=\"T_af899ad2_4d75_11ea_83f8_a683e78a077arow2_col1\" class=\"data row2 col1\" >$4.58</td>\n",
       "                        <td id=\"T_af899ad2_4d75_11ea_83f8_a683e78a077arow2_col2\" class=\"data row2 col2\" >$41.22</td>\n",
       "            </tr>\n",
       "            <tr>\n",
       "                        <th id=\"T_af899ad2_4d75_11ea_83f8_a683e78a077alevel0_row3\" class=\"row_heading level0 row3\" >92</th>\n",
       "                        <th id=\"T_af899ad2_4d75_11ea_83f8_a683e78a077alevel1_row3\" class=\"row_heading level1 row3\" >Final Critic</th>\n",
       "                        <td id=\"T_af899ad2_4d75_11ea_83f8_a683e78a077arow3_col0\" class=\"data row3 col0\" >8</td>\n",
       "                        <td id=\"T_af899ad2_4d75_11ea_83f8_a683e78a077arow3_col1\" class=\"data row3 col1\" >$4.88</td>\n",
       "                        <td id=\"T_af899ad2_4d75_11ea_83f8_a683e78a077arow3_col2\" class=\"data row3 col2\" >$39.04</td>\n",
       "            </tr>\n",
       "            <tr>\n",
       "                        <th id=\"T_af899ad2_4d75_11ea_83f8_a683e78a077alevel0_row4\" class=\"row_heading level0 row4\" >103</th>\n",
       "                        <th id=\"T_af899ad2_4d75_11ea_83f8_a683e78a077alevel1_row4\" class=\"row_heading level1 row4\" >Singed Scalpel</th>\n",
       "                        <td id=\"T_af899ad2_4d75_11ea_83f8_a683e78a077arow4_col0\" class=\"data row4 col0\" >8</td>\n",
       "                        <td id=\"T_af899ad2_4d75_11ea_83f8_a683e78a077arow4_col1\" class=\"data row4 col1\" >$4.35</td>\n",
       "                        <td id=\"T_af899ad2_4d75_11ea_83f8_a683e78a077arow4_col2\" class=\"data row4 col2\" >$34.80</td>\n",
       "            </tr>\n",
       "    </tbody></table>"
      ],
      "text/plain": [
       "<pandas.io.formats.style.Styler at 0x11bb63b50>"
      ]
     },
     "execution_count": 63,
     "metadata": {},
     "output_type": "execute_result"
    }
   ],
   "source": [
    "#most profitable items\n",
    "#Sort the above table by total purchase value in descending order\n",
    "#Optional: give the displayed data cleaner formatting\n",
    "#Display a preview of the data frame\n",
    "\n",
    "popular_item_format = most_popular_items.sort_values([\"Total Purchase Value\"], ascending=False).head()\n",
    "\n",
    "#format\n",
    "popular_item_format.style.format({\"Item Price\":\"${:,.2f}\",\n",
    "                                  \"Total Purchase Value\":\"${:,.2f}\"})"
   ]
  },
  {
   "cell_type": "code",
   "execution_count": null,
   "metadata": {},
   "outputs": [],
   "source": []
  }
 ],
 "metadata": {
  "kernelspec": {
   "display_name": "Python 3",
   "language": "python",
   "name": "python3"
  },
  "language_info": {
   "codemirror_mode": {
    "name": "ipython",
    "version": 3
   },
   "file_extension": ".py",
   "mimetype": "text/x-python",
   "name": "python",
   "nbconvert_exporter": "python",
   "pygments_lexer": "ipython3",
   "version": "3.7.4"
  }
 },
 "nbformat": 4,
 "nbformat_minor": 2
}
